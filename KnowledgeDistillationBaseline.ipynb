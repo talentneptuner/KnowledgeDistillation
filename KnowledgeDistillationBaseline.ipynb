{
 "cells": [
  {
   "cell_type": "markdown",
   "metadata": {},
   "source": [
    "# 知识蒸馏BaseLine"
   ]
  },
  {
   "cell_type": "code",
   "execution_count": 1,
   "metadata": {},
   "outputs": [],
   "source": [
    "import numpy as np\n",
    "import torch\n",
    "import torchvision\n",
    "from tqdm import tqdm\n",
    "import matplotlib.pyplot as plt"
   ]
  },
  {
   "cell_type": "markdown",
   "metadata": {},
   "source": [
    "## 加载minst数据集"
   ]
  },
  {
   "cell_type": "code",
   "execution_count": 2,
   "metadata": {},
   "outputs": [],
   "source": [
    "train_data = torchvision.datasets.MNIST(\n",
    "    root = './data/mnist',  \n",
    "    train = True,       \n",
    "    transform = torchvision.transforms.ToTensor(), \n",
    "    download = False\n",
    ")\n",
    "test_data = torchvision.datasets.MNIST(\n",
    "    root = './data/mnist',  \n",
    "    train = False,       \n",
    "    transform = torchvision.transforms.ToTensor(),\n",
    "    download = False\n",
    ")"
   ]
  },
  {
   "cell_type": "code",
   "execution_count": 3,
   "metadata": {},
   "outputs": [
    {
     "name": "stdout",
     "output_type": "stream",
     "text": [
      "torch.Size([1, 28, 28]) 5\n"
     ]
    },
    {
     "data": {
      "text/plain": [
       "<matplotlib.image.AxesImage at 0x25d39293320>"
      ]
     },
     "execution_count": 3,
     "metadata": {},
     "output_type": "execute_result"
    },
    {
     "data": {
      "image/png": "[encoded data removed]",
      "text/plain": [
       "<Figure size 432x288 with 1 Axes>"
      ]
     },
     "metadata": {
      "needs_background": "light"
     },
     "output_type": "display_data"
    }
   ],
   "source": [
    "feature, label = train_data[0]\n",
    "print(feature.shape, label)\n",
    "plt.imshow(feature.view((28, 28)))"
   ]
  },
  {
   "cell_type": "code",
   "execution_count": 4,
   "metadata": {},
   "outputs": [],
   "source": [
    "train_iter = torch.utils.data.DataLoader(train_data, batch_size=64, shuffle=True)\n",
    "test_iter = torch.utils.data.DataLoader(test_data, batch_size=64, shuffle=False)"
   ]
  },
  {
   "cell_type": "markdown",
   "metadata": {},
   "source": [
    "## Teacher NetWork"
   ]
  },
  {
   "cell_type": "code",
   "execution_count": 5,
   "metadata": {},
   "outputs": [],
   "source": [
    "from torch.nn import *\n",
    "from torchsummary import torchsummary\n",
    "class LeNet(Module):\n",
    "    def __init__(self):\n",
    "        super(LeNet, self).__init__()\n",
    "        self.conv = Sequential(Conv2d(in_channels=1, out_channels=6, kernel_size=5, stride=1),\n",
    "                               ReLU(),\n",
    "                               MaxPool2d(kernel_size=2, stride=2),\n",
    "                               Conv2d(in_channels=6, out_channels=16, kernel_size=5, stride=1),\n",
    "                               ReLU(),\n",
    "                               MaxPool2d(kernel_size=2, stride=2))\n",
    "        self.fc = Sequential(Linear(16*4*4, 120),\n",
    "                             ReLU(),\n",
    "                             Linear(120, 84),\n",
    "                             ReLU(),\n",
    "                             Linear(84, 10))\n",
    "    def forward(self, x):\n",
    "        feature_map = self.conv(x)\n",
    "        output = self.fc(feature_map.view(x.shape[0], -1))\n",
    "        return output"
   ]
  },
  {
   "cell_type": "code",
   "execution_count": 6,
   "metadata": {},
   "outputs": [
    {
     "name": "stdout",
     "output_type": "stream",
     "text": [
      "----------------------------------------------------------------\n",
      "        Layer (type)               Output Shape         Param #\n",
      "================================================================\n",
      "            Conv2d-1            [-1, 6, 24, 24]             156\n",
      "              ReLU-2            [-1, 6, 24, 24]               0\n",
      "         MaxPool2d-3            [-1, 6, 12, 12]               0\n",
      "            Conv2d-4             [-1, 16, 8, 8]           2,416\n",
      "              ReLU-5             [-1, 16, 8, 8]               0\n",
      "         MaxPool2d-6             [-1, 16, 4, 4]               0\n",
      "            Linear-7                  [-1, 120]          30,840\n",
      "              ReLU-8                  [-1, 120]               0\n",
      "            Linear-9                   [-1, 84]          10,164\n",
      "             ReLU-10                   [-1, 84]               0\n",
      "           Linear-11                   [-1, 10]             850\n",
      "================================================================\n",
      "Total params: 44,426\n",
      "Trainable params: 44,426\n",
      "Non-trainable params: 0\n",
      "----------------------------------------------------------------\n",
      "Input size (MB): 0.00\n",
      "Forward/backward pass size (MB): 0.08\n",
      "Params size (MB): 0.17\n",
      "Estimated Total Size (MB): 0.25\n",
      "----------------------------------------------------------------\n"
     ]
    }
   ],
   "source": [
    "t_net = LeNet()\n",
    "t_net = t_net.cuda()\n",
    "torchsummary.summary(t_net, input_size=(1, 28, 28))"
   ]
  },
  {
   "cell_type": "code",
   "execution_count": 7,
   "metadata": {},
   "outputs": [],
   "source": [
    "def evaluate_single_network(test_iter, model, loss):\n",
    "    model.eval()\n",
    "    acc_num, test_l_sum, cnt, iter_count = 0, 0, 0, 0\n",
    "    with torch.no_grad():\n",
    "        for X, y in test_iter:\n",
    "            X = X.cuda()\n",
    "            y = y.cuda()\n",
    "            cnt += y.shape[0]\n",
    "            y_hat = model(X)\n",
    "            l = loss(y_hat, y).cpu().item()\n",
    "            iter_count += 1\n",
    "            acc_num += (torch.argmax(y_hat, dim=1) == y).float().sum().item()\n",
    "            test_l_sum += l\n",
    "    model.train()\n",
    "    return acc_num / cnt, test_l_sum/iter_count\n",
    "            \n",
    "            \n",
    "        \n",
    "def train_single_nerwork(data_iter, test_iter, model, epochs, loss, optim):\n",
    "    test_accs, test_losses = [], []\n",
    "    test_acc, test_loss = evaluate_single_network(test_iter, model, loss)\n",
    "    test_accs.append(test_acc)\n",
    "    test_losses.append(test_loss)\n",
    "    print(f'[initial]\\tloss:{test_loss:.4f}\\tacc:{test_acc:.4f}')\n",
    "    for epoch in range(epochs):\n",
    "        train_l_sum, train_acc_sum, n, iter_count = 0.0, 0.0, 0.0, 0\n",
    "        for X, y in data_iter:\n",
    "            X = X.cuda()\n",
    "            y = y.cuda()\n",
    "            y_hat = model(X)\n",
    "            l = loss(y_hat, y)\n",
    "            optim.zero_grad()\n",
    "            l.backward()\n",
    "            optim.step()\n",
    "            iter_count += 1\n",
    "            n += y.shape[0]\n",
    "            train_acc_sum += (torch.argmax(y_hat, dim=1) == y).float().sum().item()\n",
    "            train_l_sum += l.cpu().item()\n",
    "        print(f'[train]\\tepoch:{epoch + 1}\\tloss:{train_l_sum / iter_count:.4f}\\tacc:{train_acc_sum / n:.4f}')\n",
    "        test_acc, test_loss = evaluate_single_network(test_iter, model, loss)\n",
    "        test_accs.append(test_acc)\n",
    "        test_losses.append(test_loss)\n",
    "        print(f'[test]\\tepoch:{epoch + 1}\\tloss:{test_loss:.4f}\\tacc:{test_acc:.4f}')\n",
    "    return test_accs, test_losses"
   ]
  },
  {
   "cell_type": "code",
   "execution_count": 8,
   "metadata": {},
   "outputs": [],
   "source": [
    "num_epochs = 5\n",
    "loss = torch.nn.CrossEntropyLoss()\n",
    "lr, num_epochs = 0.01, 5\n",
    "optimizer = torch.optim.Adam(t_net.parameters(), lr=lr)"
   ]
  },
  {
   "cell_type": "code",
   "execution_count": 9,
   "metadata": {},
   "outputs": [
    {
     "name": "stdout",
     "output_type": "stream",
     "text": [
      "[initial]\tloss:2.3036\tacc:0.0958\n",
      "[train]\tepoch:1\tloss:0.1633\tacc:0.9502\n",
      "[test]\tepoch:1\tloss:0.0778\tacc:0.9750\n",
      "[train]\tepoch:2\tloss:0.0850\tacc:0.9769\n",
      "[test]\tepoch:2\tloss:0.0694\tacc:0.9791\n",
      "[train]\tepoch:3\tloss:0.0813\tacc:0.9781\n",
      "[test]\tepoch:3\tloss:0.0779\tacc:0.9770\n",
      "[train]\tepoch:4\tloss:0.0689\tacc:0.9818\n",
      "[test]\tepoch:4\tloss:0.0820\tacc:0.9814\n",
      "[train]\tepoch:5\tloss:0.0697\tacc:0.9831\n",
      "[test]\tepoch:5\tloss:0.0722\tacc:0.9819\n"
     ]
    }
   ],
   "source": [
    "teacher_history = train_single_nerwork(train_iter, test_iter, t_net, num_epochs, loss, optimizer)"
   ]
  },
  {
   "cell_type": "markdown",
   "metadata": {},
   "source": [
    "## Student Network"
   ]
  },
  {
   "cell_type": "code",
   "execution_count": 10,
   "metadata": {},
   "outputs": [],
   "source": [
    "class LogisticRegression(Module):\n",
    "    def __init__(self):\n",
    "        super(LogisticRegression, self).__init__()\n",
    "        self.layer = Linear(784, 10)\n",
    "    def forward(self, x):\n",
    "        output = self.layer(x.view(-1, 784))\n",
    "        return output"
   ]
  },
  {
   "cell_type": "code",
   "execution_count": 11,
   "metadata": {},
   "outputs": [
    {
     "name": "stdout",
     "output_type": "stream",
     "text": [
      "----------------------------------------------------------------\n",
      "        Layer (type)               Output Shape         Param #\n",
      "================================================================\n",
      "            Linear-1                   [-1, 10]           7,850\n",
      "================================================================\n",
      "Total params: 7,850\n",
      "Trainable params: 7,850\n",
      "Non-trainable params: 0\n",
      "----------------------------------------------------------------\n",
      "Input size (MB): 0.00\n",
      "Forward/backward pass size (MB): 0.00\n",
      "Params size (MB): 0.03\n",
      "Estimated Total Size (MB): 0.03\n",
      "----------------------------------------------------------------\n"
     ]
    }
   ],
   "source": [
    "s_net = LogisticRegression()\n",
    "s_net = s_net.cuda()\n",
    "torchsummary.summary(s_net, input_size=(1, 28, 28))"
   ]
  },
  {
   "cell_type": "code",
   "execution_count": 12,
   "metadata": {},
   "outputs": [],
   "source": [
    "num_epochs = 5\n",
    "loss = torch.nn.CrossEntropyLoss()\n",
    "lr, num_epochs = 0.01, 5\n",
    "optimizer = torch.optim.Adam(s_net.parameters(), lr=lr)"
   ]
  },
  {
   "cell_type": "code",
   "execution_count": 13,
   "metadata": {},
   "outputs": [
    {
     "name": "stdout",
     "output_type": "stream",
     "text": [
      "[initial]\tloss:2.2953\tacc:0.1437\n",
      "[train]\tepoch:1\tloss:0.3545\tacc:0.8994\n",
      "[test]\tepoch:1\tloss:0.3261\tacc:0.9040\n",
      "[train]\tepoch:2\tloss:0.3055\tacc:0.9152\n",
      "[test]\tepoch:2\tloss:0.3258\tacc:0.9116\n",
      "[train]\tepoch:3\tloss:0.3030\tacc:0.9173\n",
      "[test]\tepoch:3\tloss:0.3236\tacc:0.9124\n",
      "[train]\tepoch:4\tloss:0.2958\tacc:0.9202\n",
      "[test]\tepoch:4\tloss:0.3390\tacc:0.9111\n",
      "[train]\tepoch:5\tloss:0.2921\tacc:0.9203\n",
      "[test]\tepoch:5\tloss:0.3248\tacc:0.9164\n"
     ]
    }
   ],
   "source": [
    "student_history = train_single_nerwork(train_iter, test_iter, s_net, num_epochs, loss, optimizer)"
   ]
  },
  {
   "cell_type": "markdown",
   "metadata": {},
   "source": [
    "## Knowledge Distillation"
   ]
  },
  {
   "cell_type": "code",
   "execution_count": 14,
   "metadata": {},
   "outputs": [],
   "source": [
    "def softmax(logit):\n",
    "    return torch.exp(logit) / torch.sum(torch.exp(logit))\n",
    "def softmax_t(logit, T):\n",
    "    return torch.exp(logit / T) / torch.sum(torch.exp(logit / T))"
   ]
  },
  {
   "cell_type": "code",
   "execution_count": 15,
   "metadata": {},
   "outputs": [
    {
     "data": {
      "text/plain": [
       "<matplotlib.image.AxesImage at 0x25d04708898>"
      ]
     },
     "execution_count": 15,
     "metadata": {},
     "output_type": "execute_result"
    },
    {
     "data": {
      "image/png": "[encoded data removed]",
      "text/plain": [
       "<Figure size 432x288 with 1 Axes>"
      ]
     },
     "metadata": {
      "needs_background": "light"
     },
     "output_type": "display_data"
    }
   ],
   "source": [
    "feature = train_data[30][0]\n",
    "plt.imshow(train_data[30][0].view((28, 28)))"
   ]
  },
  {
   "cell_type": "code",
   "execution_count": 16,
   "metadata": {},
   "outputs": [],
   "source": [
    "result = t_net(feature.view((1, 1, 28, 28)).cuda())"
   ]
  },
  {
   "cell_type": "code",
   "execution_count": 17,
   "metadata": {},
   "outputs": [
    {
     "data": {
      "text/plain": [
       "<BarContainer object of 10 artists>"
      ]
     },
     "execution_count": 17,
     "metadata": {},
     "output_type": "execute_result"
    },
    {
     "data": {
      "image/png": "[encoded data removed]",
      "text/plain": [
       "<Figure size 432x288 with 1 Axes>"
      ]
     },
     "metadata": {
      "needs_background": "light"
     },
     "output_type": "display_data"
    }
   ],
   "source": [
    "plt.bar(range(0, 10), softmax(result).detach().cpu().numpy()[0])"
   ]
  },
  {
   "cell_type": "code",
   "execution_count": 18,
   "metadata": {},
   "outputs": [
    {
     "data": {
      "text/plain": [
       "<BarContainer object of 10 artists>"
      ]
     },
     "execution_count": 18,
     "metadata": {},
     "output_type": "execute_result"
    },
    {
     "data": {
      "image/png": "[encoded data removed]",
      "text/plain": [
       "<Figure size 432x288 with 1 Axes>"
      ]
     },
     "metadata": {
      "needs_background": "light"
     },
     "output_type": "display_data"
    }
   ],
   "source": [
    "plt.bar(range(0, 10), softmax_t(result, 10).detach().cpu().numpy()[0])"
   ]
  },
  {
   "cell_type": "code",
   "execution_count": 19,
   "metadata": {},
   "outputs": [],
   "source": [
    "def kd_loss(y_hat, y, y_teacher, T):\n",
    "    loss_hard = CrossEntropyLoss()(y_hat, y)\n",
    "    loss_soft = KLDivLoss()(softmax_t(y_teacher, T), softmax(y_hat)) # 这里可以使用交叉熵\n",
    "    return loss_hard + loss_soft"
   ]
  },
  {
   "cell_type": "code",
   "execution_count": 20,
   "metadata": {},
   "outputs": [],
   "source": [
    "def evaluate_kd_network(test_iter, student, teacher, loss, T):\n",
    "    student.eval()\n",
    "    acc_num, test_l_sum, cnt, iter_count = 0, 0, 0, 0\n",
    "    with torch.no_grad():\n",
    "        for X, y in test_iter:\n",
    "            X = X.cuda()\n",
    "            y = y.cuda()\n",
    "            cnt += y.shape[0]\n",
    "            y_hat = student(X)\n",
    "            y_teacher = teacher(X).detach()\n",
    "            l = loss(y_hat, y, y_teacher, T).cpu().item()\n",
    "            iter_count += 1\n",
    "            acc_num += (torch.argmax(y_hat, dim=1) == y).float().sum().item()\n",
    "            test_l_sum += l\n",
    "    student.train()\n",
    "    return acc_num / cnt, test_l_sum/iter_count\n",
    "            \n",
    "            \n",
    "        \n",
    "def train_kd_nerwork(data_iter, test_iter, student, teacher, epochs, loss, optim, T):\n",
    "    test_accs, test_losses = [], []\n",
    "    test_acc, test_loss = evaluate_kd_network(test_iter, student, teacher, loss, T)\n",
    "    test_accs.append(test_acc)\n",
    "    test_losses.append(test_loss)\n",
    "    print(f'[initial]\\tloss:{test_loss:.4f}\\tacc:{test_acc:.4f}')\n",
    "    for epoch in range(epochs):\n",
    "        train_l_sum, train_acc_sum, n, iter_count = 0.0, 0.0, 0.0, 0\n",
    "        for X, y in data_iter:\n",
    "            X = X.cuda()\n",
    "            y = y.cuda()\n",
    "            y_hat = student(X)\n",
    "            y_teacher = teacher(X).detach()\n",
    "            l = loss(y_hat, y, y_teacher, T)\n",
    "            optim.zero_grad()\n",
    "            l.backward()\n",
    "            optim.step()\n",
    "            iter_count += 1\n",
    "            n += y.shape[0]\n",
    "            train_acc_sum += (torch.argmax(y_hat, dim=1) == y).float().sum().item()\n",
    "            train_l_sum += l.cpu().item()\n",
    "        print(f'[train]\\tepoch:{epoch + 1}\\tloss:{train_l_sum / iter_count:.4f}\\tacc:{train_acc_sum / n:.4f}')\n",
    "        test_acc, test_loss = evaluate_kd_network(test_iter, student, teacher, loss, T)\n",
    "        test_accs.append(test_acc)\n",
    "        test_losses.append(test_loss)\n",
    "        print(f'[test]\\tepoch:{epoch + 1}\\tloss:{test_loss:.4f}\\tacc:{test_acc:.4f}')\n",
    "    return test_accs, test_losses"
   ]
  },
  {
   "cell_type": "code",
   "execution_count": 21,
   "metadata": {},
   "outputs": [],
   "source": [
    "kd_net = LogisticRegression()\n",
    "kd_net = kd_net.cuda()\n",
    "num_epochs = 5\n",
    "lr, num_epochs = 0.01, 5\n",
    "optimizer = torch.optim.Adam(kd_net.parameters(), lr=lr)"
   ]
  },
  {
   "cell_type": "code",
   "execution_count": 22,
   "metadata": {},
   "outputs": [
    {
     "name": "stderr",
     "output_type": "stream",
     "text": [
      "C:\\ProgramData\\Anaconda3\\envs\\dp_gpu_tf2\\lib\\site-packages\\torch\\nn\\functional.py:1932: UserWarning: reduction: 'mean' divides the total loss by both the batch size and the support size.'batchmean' divides only by the batch size, and aligns with the KL div math definition.'mean' will be changed to behave the same as 'batchmean' in the next major release.\n",
      "  warnings.warn(\"reduction: 'mean' divides the total loss by both the batch size and the support size.\"\n"
     ]
    },
    {
     "name": "stdout",
     "output_type": "stream",
     "text": [
      "[initial]\tloss:2.2715\tacc:0.1084\n",
      "[train]\tepoch:1\tloss:0.3540\tacc:0.8986\n",
      "[test]\tepoch:1\tloss:0.2872\tacc:0.9194\n",
      "[train]\tepoch:2\tloss:0.3014\tacc:0.9155\n",
      "[test]\tepoch:2\tloss:0.3055\tacc:0.9168\n",
      "[train]\tepoch:3\tloss:0.2997\tacc:0.9163\n",
      "[test]\tepoch:3\tloss:0.2959\tacc:0.9196\n",
      "[train]\tepoch:4\tloss:0.2926\tacc:0.9196\n",
      "[test]\tepoch:4\tloss:0.2941\tacc:0.9234\n",
      "[train]\tepoch:5\tloss:0.2891\tacc:0.9193\n",
      "[test]\tepoch:5\tloss:0.3157\tacc:0.9148\n"
     ]
    }
   ],
   "source": [
    "kd_history = train_kd_nerwork(train_iter, test_iter, kd_net, t_net, num_epochs, kd_loss, optimizer, 10)"
   ]
  },
  {
   "cell_type": "code",
   "execution_count": 28,
   "metadata": {},
   "outputs": [
    {
     "data": {
      "image/png": "[encoded data removed]",
      "text/plain": [
       "<Figure size 432x288 with 1 Axes>"
      ]
     },
     "metadata": {
      "needs_background": "light"
     },
     "output_type": "display_data"
    }
   ],
   "source": [
    "plt.plot(range(1, 6), teacher_history[0][1:], label='teacher')\n",
    "plt.plot(range(1, 6), student_history[0][1:], label='student')\n",
    "plt.plot(range(1, 6), kd_history[0][1:], label='kd')\n",
    "plt.title('accuarcy')\n",
    "plt.legend()\n",
    "plt.show()"
   ]
  },
  {
   "cell_type": "code",
   "execution_count": 29,
   "metadata": {},
   "outputs": [
    {
     "data": {
      "image/png": "[encoded data removed]",
      "text/plain": [
       "<Figure size 432x288 with 1 Axes>"
      ]
     },
     "metadata": {
      "needs_background": "light"
     },
     "output_type": "display_data"
    }
   ],
   "source": [
    "plt.plot(range(1, 6), teacher_history[1][1:], label='teacher')\n",
    "plt.plot(range(1, 6), student_history[1][1:], label='student')\n",
    "plt.plot(range(1, 6), kd_history[1][1:], label='kd')\n",
    "plt.title('loss')\n",
    "plt.legend()\n",
    "plt.show()"
   ]
  },
  {
   "cell_type": "code",
   "execution_count": null,
   "metadata": {},
   "outputs": [],
   "source": []
  }
 ],
 "metadata": {
  "kernelspec": {
   "display_name": "tf2_tr12",
   "language": "python",
   "name": "tf2_tr12"
  },
  "language_info": {
   "codemirror_mode": {
    "name": "ipython",
    "version": 3
   },
   "file_extension": ".py",
   "mimetype": "text/x-python",
   "name": "python",
   "nbconvert_exporter": "python",
   "pygments_lexer": "ipython3",
   "version": "3.6.7"
  },
  "toc": {
   "base_numbering": 1,
   "nav_menu": {},
   "number_sections": true,
   "sideBar": true,
   "skip_h1_title": true,
   "title_cell": "Table of Contents",
   "title_sidebar": "Contents",
   "toc_cell": false,
   "toc_position": {
    "height": "calc(100% - 180px)",
    "left": "10px",
    "top": "150px",
    "width": "165px"
   },
   "toc_section_display": true,
   "toc_window_display": true
  }
 },
 "nbformat": 4,
 "nbformat_minor": 2
}
